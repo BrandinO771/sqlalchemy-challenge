{
 "cells": [
  {
   "cell_type": "code",
   "execution_count": null,
   "metadata": {},
   "outputs": [],
   "source": []
  },
  {
   "cell_type": "code",
   "execution_count": 1,
   "metadata": {},
   "outputs": [],
   "source": [
    "%matplotlib inline\n",
    "from matplotlib import style\n",
    "style.use('fivethirtyeight')\n",
    "import matplotlib.pyplot as plt"
   ]
  },
  {
   "cell_type": "code",
   "execution_count": 2,
   "metadata": {},
   "outputs": [],
   "source": [
    "import numpy as np\n",
    "import pandas as pd\n"
   ]
  },
  {
   "cell_type": "code",
   "execution_count": 3,
   "metadata": {},
   "outputs": [],
   "source": [
    "import datetime as dt"
   ]
  },
  {
   "cell_type": "markdown",
   "metadata": {},
   "source": [
    "# Reflect Tables into SQLAlchemy ORM"
   ]
  },
  {
   "cell_type": "code",
   "execution_count": 4,
   "metadata": {},
   "outputs": [],
   "source": [
    "# Python SQL toolkit and Object Relational Mapper\n",
    "import sqlalchemy\n",
    "from sqlalchemy.ext.automap import automap_base\n",
    "from sqlalchemy.orm import Session\n",
    "from sqlalchemy import create_engine, func\n",
    "from sqlalchemy import create_engine, inspect, func"
   ]
  },
  {
   "cell_type": "code",
   "execution_count": 5,
   "metadata": {},
   "outputs": [],
   "source": [
    "engine = create_engine(\"sqlite:///Resources/hawaii.sqlite\")"
   ]
  },
  {
   "cell_type": "code",
   "execution_count": 6,
   "metadata": {},
   "outputs": [],
   "source": [
    "# reflect an existing database into a new model\n",
    "Base = automap_base()\n",
    "# reflect the tables\n",
    "Base.prepare(engine, reflect=True)"
   ]
  },
  {
   "cell_type": "code",
   "execution_count": 7,
   "metadata": {},
   "outputs": [
    {
     "data": {
      "text/plain": [
       "['measurement', 'station']"
      ]
     },
     "execution_count": 7,
     "metadata": {},
     "output_type": "execute_result"
    }
   ],
   "source": [
    "# We can view all of the classes that automap found\n",
    "Base.classes.keys()"
   ]
  },
  {
   "cell_type": "code",
   "execution_count": 8,
   "metadata": {},
   "outputs": [],
   "source": [
    "# Save references to each table\n",
    "Measurement = Base.classes.measurement\n",
    "Station = Base.classes.station"
   ]
  },
  {
   "cell_type": "code",
   "execution_count": 11,
   "metadata": {},
   "outputs": [
    {
     "name": "stdout",
     "output_type": "stream",
     "text": [
      "id INTEGER\n",
      "station TEXT\n",
      "date TEXT\n",
      "prcp FLOAT\n",
      "tobs FLOAT\n"
     ]
    },
    {
     "data": {
      "text/plain": [
       "[(1, 'USC00519397', '2010-01-01', 0.08, 65.0),\n",
       " (2, 'USC00519397', '2010-01-02', 0.0, 63.0)]"
      ]
     },
     "execution_count": 11,
     "metadata": {},
     "output_type": "execute_result"
    }
   ],
   "source": [
    "# Create our session (link) from Python to the DB\n",
    "session = Session(engine)\n",
    "\n",
    "# inspect tables \n",
    "inspector = inspect(engine)\n",
    "columns = inspector.get_columns('measurement')\n",
    "for c in columns:\n",
    "    print(c['name'], c[\"type\"])\n",
    "engine.execute('SELECT * FROM measurement LIMIT 2').fetchall()\n"
   ]
  },
  {
   "cell_type": "code",
   "execution_count": 12,
   "metadata": {},
   "outputs": [
    {
     "data": {
      "text/plain": [
       "{'_sa_instance_state': <sqlalchemy.orm.state.InstanceState at 0xb8dd698e80>,\n",
       " 'tobs': 65.0,\n",
       " 'date': '2010-01-01',\n",
       " 'id': 1,\n",
       " 'prcp': 0.08,\n",
       " 'station': 'USC00519397'}"
      ]
     },
     "execution_count": 12,
     "metadata": {},
     "output_type": "execute_result"
    }
   ],
   "source": [
    "m_dic  = session.query(Measurement).first()\n",
    "#print('the dicionary print result of Measurement is', m_dic.__dict__ )\n",
    "m_dic.__dict__ "
   ]
  },
  {
   "cell_type": "code",
   "execution_count": 13,
   "metadata": {},
   "outputs": [
    {
     "name": "stdout",
     "output_type": "stream",
     "text": [
      "id INTEGER\n",
      "station TEXT\n",
      "name TEXT\n",
      "latitude FLOAT\n",
      "longitude FLOAT\n",
      "elevation FLOAT\n"
     ]
    },
    {
     "data": {
      "text/plain": [
       "[(1, 'USC00519397', 'WAIKIKI 717.2, HI US', 21.2716, -157.8168, 3.0),\n",
       " (2, 'USC00513117', 'KANEOHE 838.1, HI US', 21.4234, -157.8015, 14.6)]"
      ]
     },
     "execution_count": 13,
     "metadata": {},
     "output_type": "execute_result"
    }
   ],
   "source": [
    "# inspect tables \n",
    "columnz = inspector.get_columns('station')\n",
    "for d in columnz:\n",
    "    print(d['name'], d[\"type\"])\n",
    "    \n",
    "engine.execute('SELECT * FROM station LIMIT 2').fetchall()"
   ]
  },
  {
   "cell_type": "code",
   "execution_count": 14,
   "metadata": {},
   "outputs": [
    {
     "data": {
      "text/plain": [
       "{'_sa_instance_state': <sqlalchemy.orm.state.InstanceState at 0xb8dd6bf320>,\n",
       " 'station': 'USC00519397',\n",
       " 'longitude': -157.8168,\n",
       " 'name': 'WAIKIKI 717.2, HI US',\n",
       " 'id': 1,\n",
       " 'elevation': 3.0,\n",
       " 'latitude': 21.2716}"
      ]
     },
     "execution_count": 14,
     "metadata": {},
     "output_type": "execute_result"
    }
   ],
   "source": [
    "s_dic  = session.query(Station).first()\n",
    "s_dic.__dict__ "
   ]
  },
  {
   "cell_type": "markdown",
   "metadata": {},
   "source": [
    "# Exploratory Climate Analysis"
   ]
  },
  {
   "cell_type": "code",
   "execution_count": null,
   "metadata": {},
   "outputs": [],
   "source": []
  },
  {
   "cell_type": "code",
   "execution_count": 15,
   "metadata": {},
   "outputs": [
    {
     "name": "stdout",
     "output_type": "stream",
     "text": [
      " the first date in the Measurement table is : ('2010-01-01',)\n",
      " the last date in the Measurement table is : ('2017-08-23',)\n",
      "Query Date:  2016-08-23\n"
     ]
    }
   ],
   "source": [
    "# Design a query to retrieve the last 12 months of precipitation data and plot the results\n",
    "# Calculate the date 1 year ago from the last data point in the database\n",
    "#Earliest Date -- ORDER BY ASCEND--- GRAB FIRST RECORD \n",
    "\n",
    "first_measure_date = session.query(Measurement.date).order_by(Measurement.date).first()\n",
    "print(f' the first date in the Measurement table is : {first_measure_date}') \n",
    "# Latest Date -- ORDER BY DESC--- GRAB FIRST RECORD \n",
    "last_measure_date = session.query(Measurement.date).order_by(Measurement.date.desc()).first()\n",
    "print(f' the last date in the Measurement table is : {last_measure_date}')\n",
    "# the earliest date = '2010-01-01'\n",
    "# the last date = '2017-08-23' \n",
    "# just double checking year ago is 2016-08-23\n",
    "query_date = dt.date(2017, 8, 23) - dt.timedelta(days=365)\n",
    "print(\"Query Date: \", query_date)\n",
    "\n",
    "# do this command below to get clean vertical print of just 5 results \n",
    "#------------------------------------------\n",
    "# session.query(Measurement.date, Measurement.prcp).\\\n",
    "#     filter(Measurement.date > '2016-08-23').\\\n",
    "#     order_by(Measurement.date).limit(5).all()\n",
    "#------------------------------------------\n",
    "\n",
    "#Find all of the dates great than 2016-08-23\n",
    "data_extract = session.query(Measurement.date, Measurement.prcp).\\\n",
    "    filter(Measurement.date >= '2016-08-23').\\\n",
    "    order_by(Measurement.date).all()\n",
    "#print(f'This is the data we are extracting for Measurement date & Percipitation :prcp {data_extract}')"
   ]
  },
  {
   "cell_type": "code",
   "execution_count": 16,
   "metadata": {},
   "outputs": [
    {
     "data": {
      "text/html": [
       "<div>\n",
       "<style scoped>\n",
       "    .dataframe tbody tr th:only-of-type {\n",
       "        vertical-align: middle;\n",
       "    }\n",
       "\n",
       "    .dataframe tbody tr th {\n",
       "        vertical-align: top;\n",
       "    }\n",
       "\n",
       "    .dataframe thead th {\n",
       "        text-align: right;\n",
       "    }\n",
       "</style>\n",
       "<table border=\"1\" class=\"dataframe\">\n",
       "  <thead>\n",
       "    <tr style=\"text-align: right;\">\n",
       "      <th></th>\n",
       "      <th>prcp</th>\n",
       "    </tr>\n",
       "    <tr>\n",
       "      <th>date</th>\n",
       "      <th></th>\n",
       "    </tr>\n",
       "  </thead>\n",
       "  <tbody>\n",
       "    <tr>\n",
       "      <th>2016-08-23</th>\n",
       "      <td>0.00</td>\n",
       "    </tr>\n",
       "    <tr>\n",
       "      <th>2016-08-23</th>\n",
       "      <td>0.15</td>\n",
       "    </tr>\n",
       "    <tr>\n",
       "      <th>2016-08-23</th>\n",
       "      <td>0.05</td>\n",
       "    </tr>\n",
       "    <tr>\n",
       "      <th>2016-08-23</th>\n",
       "      <td>NaN</td>\n",
       "    </tr>\n",
       "    <tr>\n",
       "      <th>2016-08-23</th>\n",
       "      <td>0.02</td>\n",
       "    </tr>\n",
       "  </tbody>\n",
       "</table>\n",
       "</div>"
      ],
      "text/plain": [
       "            prcp\n",
       "date            \n",
       "2016-08-23  0.00\n",
       "2016-08-23  0.15\n",
       "2016-08-23  0.05\n",
       "2016-08-23   NaN\n",
       "2016-08-23  0.02"
      ]
     },
     "execution_count": 16,
     "metadata": {},
     "output_type": "execute_result"
    }
   ],
   "source": [
    "# CONVERT TO DATA FRAME WITH JUST DATE AND PRECIPITAION DATA - SORTED BY DATE AND INDEX SET TO DATE COLUMN\n",
    "df1 = pd.DataFrame(data_extract)\n",
    "#df1 = df1.dropna(how=\"any\")\n",
    "#df1 = df1.sort_values(\"date\", ascending = False)\n",
    "df1 = df1.set_index(\"date\")  \n",
    "df1 = df1.sort_index( axis =0,  ascending =True)\n",
    "df1.head()"
   ]
  },
  {
   "cell_type": "code",
   "execution_count": 18,
   "metadata": {},
   "outputs": [
    {
     "name": "stderr",
     "output_type": "stream",
     "text": [
      "C:\\Users\\brandon\\Miniconda3\\envs\\PythonData\\lib\\site-packages\\ipykernel_launcher.py:19: MatplotlibDeprecationWarning: Adding an axes using the same arguments as a previous axes currently reuses the earlier instance.  In a future version, a new instance will always be created and returned.  Meanwhile, this warning can be suppressed, and the future behavior ensured, by passing a unique label to each axes instance.\n"
     ]
    },
    {
     "data": {
      "text/plain": [
       "<Figure size 360x1440 with 0 Axes>"
      ]
     },
     "metadata": {},
     "output_type": "display_data"
    },
    {
     "data": {
      "image/png": "[encoded data removed]",
      "text/plain": [
       "<Figure size 432x288 with 1 Axes>"
      ]
     },
     "metadata": {},
     "output_type": "display_data"
    }
   ],
   "source": [
    "### Precipitation Analysis\n",
    "\n",
    "# * Design a query to retrieve the last 12 months of precipitation data.\n",
    "# * Select only the `date` and `prcp` values.\n",
    "# * Load the query results into a Pandas DataFrame and set the index to the date column.\n",
    "# * Sort the DataFrame values by `date`.\n",
    "# * Plot the results using the DataFrame `plot` method.\n",
    "#x_axis = np.arange(len(df1))\n",
    "#x_axis = np.arange(0,1,.01)\n",
    "import matplotlib.pyplot as plt\n",
    "\n",
    "with plt.style.context(('seaborn-white')): \n",
    "\n",
    "    plt.figure(figsize=(5,20))\n",
    "    df1.plot.bar ( y = 'prcp', align='edge',  width = 15)\n",
    "    #plt.xlim(-0.25, len(x_axis))\n",
    "    #plt.subplots(constrained_layout=True)\n",
    "    #plt.tight_layout()\n",
    "    ax1 = plt.axes()\n",
    "    x_axis = ax1.axes.get_xaxis()\n",
    "    x_axis.set_visible(False)\n",
    "    ax1.grid(True) \n",
    "    plt.grid( zorder = 2)\n",
    "    #plt.xlim(0,3)\n",
    "    #plt.axis('normal')\n",
    "    #plt.xscale('linear')\n",
    "    x =(0,400, 800,1200,1600,2000)\n",
    "    plt.vlines( x, ymin =0, ymax = 7, colors='gray', linewidths=1,  linestyles='solid',  alpha= .5 )#, zorder = -2)\n",
    "    plt.autoscale()\n",
    "    plt.xlabel(\"date\")\n",
    "    plt.text(1000, -1, 'date', color = 'black', fontsize = 15)\n",
    "    plt.legend( ['Precipitation'] ,fontsize = 10,loc='upper center', frameon = True )\n",
    "    plt.savefig(\"Precip_BS.png\", dpi=192, bbox_inches='tight') \n",
    "    plt.show()\n",
    "    #plt.close('all')\n",
    "#   ![precipitation](Images/precipitation.png)\n",
    "# * Use Pandas to print the summary statistics for the precipitation data.\n",
    "# Perform a query to retrieve the data and precipitation scores\n"
   ]
  },
  {
   "cell_type": "code",
   "execution_count": null,
   "metadata": {},
   "outputs": [],
   "source": [
    "\n",
    "\n",
    "# Save the query results as a Pandas DataFrame and set the index to the date column\n",
    "# Sort the dataframe by date\n",
    "# Use Pandas Plotting with Matplotlib to plot the data\n"
   ]
  },
  {
   "cell_type": "code",
   "execution_count": null,
   "metadata": {},
   "outputs": [],
   "source": [
    "# Use Pandas to calcualte the summary statistics for the precipitation data"
   ]
  },
  {
   "cell_type": "code",
   "execution_count": 17,
   "metadata": {},
   "outputs": [
    {
     "data": {
      "text/html": [
       "<div>\n",
       "<style scoped>\n",
       "    .dataframe tbody tr th:only-of-type {\n",
       "        vertical-align: middle;\n",
       "    }\n",
       "\n",
       "    .dataframe tbody tr th {\n",
       "        vertical-align: top;\n",
       "    }\n",
       "\n",
       "    .dataframe thead th {\n",
       "        text-align: right;\n",
       "    }\n",
       "</style>\n",
       "<table border=\"1\" class=\"dataframe\">\n",
       "  <thead>\n",
       "    <tr style=\"text-align: right;\">\n",
       "      <th></th>\n",
       "      <th>prcp</th>\n",
       "    </tr>\n",
       "  </thead>\n",
       "  <tbody>\n",
       "    <tr>\n",
       "      <th>count</th>\n",
       "      <td>2021.000000</td>\n",
       "    </tr>\n",
       "    <tr>\n",
       "      <th>mean</th>\n",
       "      <td>0.177279</td>\n",
       "    </tr>\n",
       "    <tr>\n",
       "      <th>std</th>\n",
       "      <td>0.461190</td>\n",
       "    </tr>\n",
       "    <tr>\n",
       "      <th>min</th>\n",
       "      <td>0.000000</td>\n",
       "    </tr>\n",
       "    <tr>\n",
       "      <th>25%</th>\n",
       "      <td>0.000000</td>\n",
       "    </tr>\n",
       "    <tr>\n",
       "      <th>50%</th>\n",
       "      <td>0.020000</td>\n",
       "    </tr>\n",
       "    <tr>\n",
       "      <th>75%</th>\n",
       "      <td>0.130000</td>\n",
       "    </tr>\n",
       "    <tr>\n",
       "      <th>max</th>\n",
       "      <td>6.700000</td>\n",
       "    </tr>\n",
       "  </tbody>\n",
       "</table>\n",
       "</div>"
      ],
      "text/plain": [
       "              prcp\n",
       "count  2021.000000\n",
       "mean      0.177279\n",
       "std       0.461190\n",
       "min       0.000000\n",
       "25%       0.000000\n",
       "50%       0.020000\n",
       "75%       0.130000\n",
       "max       6.700000"
      ]
     },
     "execution_count": 17,
     "metadata": {},
     "output_type": "execute_result"
    }
   ],
   "source": [
    "df1.describe()"
   ]
  },
  {
   "cell_type": "code",
   "execution_count": 23,
   "metadata": {},
   "outputs": [
    {
     "data": {
      "image/png": "[encoded data removed]",
      "text/plain": [
       "<Figure size 432x288 with 1 Axes>"
      ]
     },
     "metadata": {
      "needs_background": "light"
     },
     "output_type": "display_data"
    }
   ],
   "source": [
    "\n",
    "import matplotlib.pyplot as plt\n",
    "from pandas.plotting import table\n",
    "\n",
    "desc1 = df1.describe()\n",
    "#create a subplot without frame\n",
    "plot = plt.subplot(255,  frame_on=False)\n",
    "plt.autoscale()\n",
    "#remove axis\n",
    "plot.xaxis.set_visible(False) \n",
    "plot.yaxis.set_visible(False) \n",
    "#create the table plot and position it in the upper left corner\n",
    "table(plot, desc1)\n",
    "#save the plot as a png file\n",
    "plt.savefig('desc_plot.png' ,dpi=192, bbox_inches='tight') \n",
    "# see my image file - I'm not sure why its so small below ?"
   ]
  },
  {
   "cell_type": "code",
   "execution_count": 26,
   "metadata": {},
   "outputs": [
    {
     "name": "stdout",
     "output_type": "stream",
     "text": [
      "the number of stations by counting their ids are : 9\n",
      "the number of stations by counting the stations are : 9\n"
     ]
    }
   ],
   "source": [
    "# Design a query to show how many stations are available in this dataset?\n",
    "s_dic  = session.query(Station).first()\n",
    "#print( s_dic.__dict__ )\n",
    "# first_measure_date = session.query(Measurement.date).order_by(Measurement.date).first()\n",
    "# print(f' the first date in the Measurement table is : {first_measure_date}') \n",
    "#session.query(Station.id).filter_by(year=\"2017\").count()\n",
    "print ('the number of stations by counting their ids are :', session.query(Station.id).count())\n",
    "print ('the number of stations by counting the stations are :', session.query(Station.station).count())\n",
    "\n",
    "#print ('the number of stations by counting their ids are :', session.query(Measurement.id).count())\n",
    "#print ('the number of stations by counting the measurement table stations are :', session.query(Measurement.station).count())\n"
   ]
  },
  {
   "cell_type": "code",
   "execution_count": 28,
   "metadata": {},
   "outputs": [
    {
     "name": "stdout",
     "output_type": "stream",
     "text": [
      " The most active station is : USC00519281\n",
      "('USC00519281', 2772)\n",
      "('USC00519397', 2724)\n",
      "('USC00513117', 2709)\n",
      "('USC00519523', 2669)\n",
      "('USC00516128', 2612)\n",
      "('USC00514830', 2202)\n",
      "('USC00511918', 1979)\n",
      "('USC00517948', 1372)\n",
      "('USC00518838', 511)\n"
     ]
    }
   ],
   "source": [
    "# What are the most active stations? (i.e. what stations have the most rows)?\n",
    "# List the stations and the counts in descending order.\n",
    "from sqlalchemy import funcfilter\n",
    "from sqlalchemy import distinct, func\n",
    "import operator\n",
    "from operator import itemgetter, attrgetter\n",
    "\n",
    "sess = session.query(Measurement.station, func.count(Measurement.station).label('counts')).\\\n",
    "                group_by(Measurement.station).order_by(Measurement.station.desc()).all()\n",
    "\n",
    "# I COULD NOT FIND ADEQUATE INTERNET EXAMPLES OR ALCHEMY DOCS TO SORT BY MY RESULT GROUP BY COUNTS\n",
    "# SOME DOCS SUGGESTED YOU CAN SORT BY THE LABEL YOU GIVE THE COUNT RESULT AND PLUG INTO THE DESC()\n",
    "# AS A SORT PARAMETER BUT NO GO SO i USED PYTHON TABLE/LIST SORT FEATURE BELOW \n",
    "\n",
    "sess =sorted(sess, key=operator.itemgetter(1), reverse=True) # sort by col  2 , largest to smallest\n",
    "most_active_station = sess[0][0]\n",
    "\n",
    "print(f' The most active station is : {most_active_station}')\n",
    "\n",
    "for i in sess:\n",
    "    print(i)\n"
   ]
  },
  {
   "cell_type": "code",
   "execution_count": 29,
   "metadata": {},
   "outputs": [
    {
     "name": "stdout",
     "output_type": "stream",
     "text": [
      " The Highest temp for station USC00519281 was : 85.0\n",
      " The  Lowest temp for station USC00519281 was : 54.0 \n",
      " The Average temp for station USC00519281 was : 71.66\n",
      "\n",
      "For Station USC00519281: the Highest temp was  :  85.0 |   the lowest temp was :  54.0 |  the average temp was :  71.66\n"
     ]
    }
   ],
   "source": [
    "# Using the station id from the previous query, calculate the lowest temperature recorded, \n",
    "# highest temperature recorded, and average temperature most active station?\n",
    "high_temp = session.query(Measurement.tobs).\\\n",
    "    filter(Measurement.station == most_active_station ).order_by(Measurement.tobs.desc()).first()\n",
    "print(f' The Highest temp for station {most_active_station} was : {high_temp[0]}')\n",
    "    #filter(Measurement.station == 'USC00519281').filter(Measurement.tobs > 80).all()\n",
    "low_temp = session.query(Measurement.tobs).\\\n",
    "    filter(Measurement.station ==  most_active_station ).order_by(Measurement.tobs).first()\n",
    "print(f' The  Lowest temp for station {most_active_station} was : {low_temp[0]} ')\n",
    "\n",
    "avg_temp = session.query(func.avg(Measurement.tobs)).\\\n",
    "     filter(Measurement.station ==  most_active_station ).all()\n",
    "print(f' The Average temp for station {most_active_station} was : {round((avg_temp[0][0]),2)}')\n",
    "\n",
    "# I DID THE FIRST METHOD ABOVE FIRST AND PREFER USING THE FUNC FOR HIGH AND MIN \n",
    "\n",
    "sel = [ \n",
    "        func.avg(Measurement.tobs),\n",
    "        func.min(Measurement.tobs),\n",
    "        func.max(Measurement.tobs)\n",
    "      ] \n",
    "totals = session.query(*sel).\\\n",
    "   filter(Measurement.station == most_active_station).all()\n",
    "print()\n",
    "print( 'For Station USC00519281: the Highest temp was  : ' ,totals[0][2] , '|   the lowest temp was : ' ,totals[0][1], '|  the average temp was : ' ,round((totals[0][0]),2) )\n"
   ]
  },
  {
   "cell_type": "code",
   "execution_count": 30,
   "metadata": {},
   "outputs": [
    {
     "name": "stdout",
     "output_type": "stream",
     "text": [
      "the max date for this query is [('2017-08-18',)]\n",
      "start_date :  2016-08-18\n",
      "[('USC00519281', '2016-08-18', 80.0), ('USC00519281', '2016-08-19', 79.0), ('USC00519281', '2016-08-20', 81.0), ('USC00519281', '2016-08-21', 79.0), ('USC00519281', '2016-08-22', 78.0)]\n"
     ]
    }
   ],
   "source": [
    "sel1 = [ \n",
    "        #func.min(Measurement.date),\n",
    "        func.max(Measurement.date)\n",
    "      ] \n",
    "end_date = session.query(*sel1).\\\n",
    "       filter(Measurement.station == 'USC00519281').\\\n",
    "       filter(Measurement.date).all()\n",
    "print (f'the max date for this query is {end_date}') \n",
    "\n",
    "start_date = dt.date(2017, 8, 18) - dt.timedelta(days=365)\n",
    "print(\"start_date : \", start_date )\n",
    "\n",
    "#--check 5 results of the dates great than 2016-08-18 for station  'USC00519281'\n",
    "print ( session.query( Measurement.station,Measurement.date, Measurement.tobs).\\\n",
    "        filter(Measurement.date >=  start_date, Measurement.station == 'USC00519281').\\\n",
    "        order_by(Measurement.date).limit(5).all())\n",
    "\n",
    "#--GET ALL results of the dates great than 2016-08-18 for station  'USC00519281'\n",
    "data_extract1 = session.query( Measurement.station,Measurement.date, Measurement.tobs).\\\n",
    "    filter(Measurement.date >=  start_date, Measurement.station == 'USC00519281').\\\n",
    "    order_by(Measurement.date).all()"
   ]
  },
  {
   "cell_type": "code",
   "execution_count": 31,
   "metadata": {},
   "outputs": [
    {
     "data": {
      "text/html": [
       "<div>\n",
       "<style scoped>\n",
       "    .dataframe tbody tr th:only-of-type {\n",
       "        vertical-align: middle;\n",
       "    }\n",
       "\n",
       "    .dataframe tbody tr th {\n",
       "        vertical-align: top;\n",
       "    }\n",
       "\n",
       "    .dataframe thead th {\n",
       "        text-align: right;\n",
       "    }\n",
       "</style>\n",
       "<table border=\"1\" class=\"dataframe\">\n",
       "  <thead>\n",
       "    <tr style=\"text-align: right;\">\n",
       "      <th></th>\n",
       "      <th>Station</th>\n",
       "      <th>Date</th>\n",
       "      <th>Temperature</th>\n",
       "    </tr>\n",
       "  </thead>\n",
       "  <tbody>\n",
       "    <tr>\n",
       "      <th>0</th>\n",
       "      <td>USC00519281</td>\n",
       "      <td>2016-08-18</td>\n",
       "      <td>80.0</td>\n",
       "    </tr>\n",
       "    <tr>\n",
       "      <th>1</th>\n",
       "      <td>USC00519281</td>\n",
       "      <td>2016-08-19</td>\n",
       "      <td>79.0</td>\n",
       "    </tr>\n",
       "    <tr>\n",
       "      <th>2</th>\n",
       "      <td>USC00519281</td>\n",
       "      <td>2016-08-20</td>\n",
       "      <td>81.0</td>\n",
       "    </tr>\n",
       "    <tr>\n",
       "      <th>3</th>\n",
       "      <td>USC00519281</td>\n",
       "      <td>2016-08-21</td>\n",
       "      <td>79.0</td>\n",
       "    </tr>\n",
       "    <tr>\n",
       "      <th>4</th>\n",
       "      <td>USC00519281</td>\n",
       "      <td>2016-08-22</td>\n",
       "      <td>78.0</td>\n",
       "    </tr>\n",
       "  </tbody>\n",
       "</table>\n",
       "</div>"
      ],
      "text/plain": [
       "       Station        Date  Temperature\n",
       "0  USC00519281  2016-08-18         80.0\n",
       "1  USC00519281  2016-08-19         79.0\n",
       "2  USC00519281  2016-08-20         81.0\n",
       "3  USC00519281  2016-08-21         79.0\n",
       "4  USC00519281  2016-08-22         78.0"
      ]
     },
     "execution_count": 31,
     "metadata": {},
     "output_type": "execute_result"
    }
   ],
   "source": [
    "# Choose the station with the highest number of temperature observations.\n",
    "# Query the last 12 months of temperature observation data for this station and plot the results as a histogram\n",
    "df2 = pd.DataFrame(data_extract1, columns=['Station', 'Date', 'Temperature' ] )\n",
    "df2.head()"
   ]
  },
  {
   "cell_type": "code",
   "execution_count": 32,
   "metadata": {},
   "outputs": [
    {
     "data": {
      "image/png": "[encoded data removed]",
      "text/plain": [
       "<Figure size 432x288 with 1 Axes>"
      ]
     },
     "metadata": {},
     "output_type": "display_data"
    }
   ],
   "source": [
    "with plt.style.context(('seaborn-white')): \n",
    "    df2.hist(bins=12)\n",
    "    plt.legend( ['Temp'] ,fontsize = 10,loc='upper right', frameon = True )\n",
    "    plt.ylabel('Frequency', fontsize = 15)\n",
    "    plt.savefig(\"Temp_Histo_BS.png\", dpi=192, bbox_inches='tight') \n",
    "    plt.show()"
   ]
  },
  {
   "cell_type": "code",
   "execution_count": 41,
   "metadata": {},
   "outputs": [
    {
     "name": "stdout",
     "output_type": "stream",
     "text": [
      "[(62.0, 69.57142857142857, 74.0)]\n"
     ]
    }
   ],
   "source": [
    "# This function called `calc_temps` will accept start date and end date in the format '%Y-%m-%d' \n",
    "# and return the minimum, average, and maximum temperatures for that range of dates\n",
    "def calc_temps(start_date, end_date):\n",
    "    \"\"\"TMIN, TAVG, and TMAX for a list of dates.\n",
    "    \n",
    "    Args:\n",
    "        start_date (string): A date string in the format %Y-%m-%d\n",
    "        end_date (string): A date string in the format %Y-%m-%d\n",
    "        \n",
    "    Returns:\n",
    "        TMIN, TAVE, and TMAX\n",
    "    \"\"\"\n",
    "    \n",
    "    return session.query(func.min(Measurement.tobs), func.avg(Measurement.tobs), func.max(Measurement.tobs)).\\\n",
    "        filter(Measurement.date >= start_date).filter(Measurement.date <= end_date).all()\n",
    "\n",
    "# function usage example\n",
    "print(calc_temps('2012-02-28', '2012-03-05'))"
   ]
  },
  {
   "cell_type": "code",
   "execution_count": 44,
   "metadata": {},
   "outputs": [
    {
     "name": "stdout",
     "output_type": "stream",
     "text": [
      "tried many more dates tried to match starter notebook, i find these instructions confusing\n",
      "\n",
      "to get the notebook given solution - plug these dates: 2011-02-27 to 2011-03-05 \n",
      "Min Temp |  Average Temp  | Max Temp\n",
      "[(61.0, 69.94545454545455, 75.0)]\n",
      "\n",
      "reading the instructions literally - plug these dates: 2011-02-28 to 2011-03-05 \n",
      "Min Temp |  Average Temp  | Max Temp\n",
      "[(61.0, 70.08928571428571, 75.0)]\n",
      "\n",
      "Min Temp |  Average Temp  | Max Temp |  for: 2017-02-28, 2017-03-05\n",
      "[(64.0, 72.02777777777777, 78.0)]\n",
      "\n",
      "Min Temp |  Average Temp  | Max Temp  |  for:  2017-02-28, 2017-03-05\n"
     ]
    }
   ],
   "source": [
    "# Use your previous function `calc_temps` to calculate the tmin, tavg, and tmax \n",
    "# for your trip using the previous year's data for those same dates.\n",
    "# the sample notebook result was : 62.0 | 68.36 |  74.0\n",
    "\n",
    "# THESE INSTRUCTIONS ARE WACK IN ORDER TO GET THE RESULT GIVEN\n",
    "# SINCE THERE WAS A LEAP YEAR IN 2012 THE INSTRUCTIONS SHOULD SAY FOR \n",
    "# AN 7 DAY PERIOD STARTING FROM THE START DATE GIVEN A YEAR AGO GET RESULTS\n",
    "# THEN WE GET THIS RESULT - IF WE LITERALLY FOLLOW INSTUCTIONS JUST PLUGIN\n",
    "# SAME DATES FOR A YEAR AGO WE GET SOMETHING DIFFERENT \n",
    "print('tried many more dates tried to match starter notebook, i find these instructions confusing')\n",
    "print()\n",
    "print('to get the notebook given solution - plug these dates: 2011-02-27 to 2011-03-05 ')\n",
    "print('Min Temp |  Average Temp  | Max Temp')\n",
    "print(calc_temps( '2011-02-27', '2011-03-05'))\n",
    "print()\n",
    "print('reading the instructions literally - plug these dates: 2011-02-28 to 2011-03-05 ')\n",
    "print('Min Temp |  Average Temp  | Max Temp')\n",
    "print(calc_temps( '2011-02-28', '2011-03-06'))\n",
    "print()\n",
    "print('Min Temp |  Average Temp  | Max Temp |  for: 2017-02-28, 2017-03-05')\n",
    "print(calc_temps( '2017-02-28', '2017-03-05'))\n",
    "print()\n",
    "print('Min Temp |  Average Temp  | Max Temp  |  for:  2017-02-28, 2017-03-05' )\n",
    "my_trip = calc_temps( '2017-02-28', '2017-03-05')\n",
    "#print(my_trip)\n",
    "# avg_temp = my_trip[0][1]\n",
    "# print(avg_temp)\n",
    "#print(calc_temps( start_date, end_date[0][0]))"
   ]
  },
  {
   "cell_type": "code",
   "execution_count": 264,
   "metadata": {},
   "outputs": [
    {
     "name": "stdout",
     "output_type": "stream",
     "text": [
      "['bmh', 'classic', 'dark_background', 'fast', 'fivethirtyeight', 'ggplot', 'grayscale', 'seaborn-bright', 'seaborn-colorblind', 'seaborn-dark-palette', 'seaborn-dark', 'seaborn-darkgrid', 'seaborn-deep', 'seaborn-muted', 'seaborn-notebook', 'seaborn-paper', 'seaborn-pastel', 'seaborn-poster', 'seaborn-talk', 'seaborn-ticks', 'seaborn-white', 'seaborn-whitegrid', 'seaborn', 'Solarize_Light2', 'tableau-colorblind10', '_classic_test']\n"
     ]
    },
    {
     "name": "stderr",
     "output_type": "stream",
     "text": [
      "C:\\Users\\brandon\\Miniconda3\\envs\\PythonData\\lib\\site-packages\\ipykernel_launcher.py:10: MatplotlibDeprecationWarning: Adding an axes using the same arguments as a previous axes currently reuses the earlier instance.  In a future version, a new instance will always be created and returned.  Meanwhile, this warning can be suppressed, and the future behavior ensured, by passing a unique label to each axes instance.\n",
      "  # Remove the CWD from sys.path while we load stuff.\n"
     ]
    },
    {
     "data": {
      "image/png": "[encoded data removed]",
      "text/plain": [
       "<Figure size 360x720 with 1 Axes>"
      ]
     },
     "metadata": {},
     "output_type": "display_data"
    }
   ],
   "source": [
    "\n",
    "\n",
    "\n",
    "# Plot the results from your previous query as a bar chart. \n",
    "# Use \"Trip Avg Temp\" as your Title\n",
    "# Use the average temperature for the y value\n",
    "# Use the peak-to-peak (tmax-tmin) value as the y error bar (yerr)\n",
    "error =  my_trip[0][2] -my_trip[0][0]\n",
    "#print(style.available)\n",
    "with plt.style.context(('fivethirtyeight')): \n",
    "    plt.figure(figsize=(5,10))\n",
    "    plt.bar(x= (1.5),  height = avg_temp, yerr=error, align='center' , color = 'coral', alpha = .5,width =.75)\n",
    "    ax1 = plt.axes()\n",
    "    x_axis = ax1.axes.get_xaxis()\n",
    "    x_axis.set_visible(False)\n",
    "    plt.grid( zorder = 2)\n",
    "    plt.xlim(1,2)\n",
    "    plt.ylim(0,100)\n",
    "    plt.ylabel( \"Temp (F)\", fontsize = 20)\n",
    "    plt.title( \"Trip Average Temp\")\n",
    "    plt.tight_layout()\n",
    "    plt.savefig(\"Trip_AvgTemp_BS.png\", dpi=192, bbox_inches='tight') \n",
    "    plt.show()"
   ]
  },
  {
   "cell_type": "code",
   "execution_count": null,
   "metadata": {},
   "outputs": [],
   "source": [
    "# Calculate the total amount of rainfall per weather station for your trip dates using the previous year's matching dates.\n",
    "# Sort this in descending order by precipitation amount and list the station, name, latitude, longitude, and elevation\n",
    "\n"
   ]
  },
  {
   "cell_type": "markdown",
   "metadata": {},
   "source": [
    "MEASUREMENT TABLE \n",
    " 'id': 1,\n",
    " 'prcp': 0.08,\n",
    " 'station': 'USC00519397',\n",
    " 'tobs': 65.0,\n",
    " 'date': '2010-01-01'}\n",
    "    \n",
    " STATION TABLE \n",
    " 'longitude': -157.8168,\n",
    " 'name': 'WAIKIKI 717.2, HI US',\n",
    " 'id': 1,\n",
    " 'elevation': 3.0,\n",
    " 'latitude': 21.2716,\n",
    " 'station': 'USC00519397'}"
   ]
  },
  {
   "cell_type": "code",
   "execution_count": 322,
   "metadata": {},
   "outputs": [
    {
     "name": "stdout",
     "output_type": "stream",
     "text": [
      "UGLY PRINT-----UGLY PRINT-----UGLY PRINT-----UGLY PRINT-----UGLY PRINT-----UGLY PRINT-----UGLY PRINT\n",
      "\n",
      "Station ID   | Station Name  [ Precipitaion ] ( Latitude )| Longitude | Elevation\n",
      "USC00517948  |  PEARL CITY, HI US  [  2.4  ] ( 21.3934  ) |  -157.9751  |  11.9\n",
      "USC00513117  |  KANEOHE 838.1, HI US  [  2.2  ] ( 21.4234  ) |  -157.8015  |  14.6\n",
      "USC00519281  |  WAIHEE 837.5, HI US  [  2.12  ] ( 21.45167  ) |  -157.84888999999998  |  32.9\n",
      "USC00516128  |  MANOA LYON ARBO 785.2, HI US  [  2.0  ] ( 21.3331  ) |  -157.8025  |  152.4\n",
      "USC00519281  |  WAIHEE 837.5, HI US  [  1.88  ] ( 21.45167  ) |  -157.84888999999998  |  32.9\n",
      "USC00519523  |  WAIMANALO EXPERIMENTAL FARM, HI US  [  1.48  ] ( 21.33556  ) |  -157.71139  |  19.5\n",
      "USC00513117  |  KANEOHE 838.1, HI US  [  1.45  ] ( 21.4234  ) |  -157.8015  |  14.6\n",
      "USC00519397  |  WAIKIKI 717.2, HI US  [  1.19  ] ( 21.2716  ) |  -157.8168  |  3.0\n",
      "USC00514830  |  KUALOA RANCH HEADQUARTERS 886.9, HI US  [  1.12  ] ( 21.5213  ) |  -157.8374  |  7.0\n",
      "USC00519397  |  WAIKIKI 717.2, HI US  [  0.73  ] ( 21.2716  ) |  -157.8168  |  3.0\n",
      "\n",
      "PRETTY PRINT----------PRETTY PRINT----------PRETTY PRINT----------PRETTY PRINT----------PRETTY PRINT\n"
     ]
    },
    {
     "data": {
      "text/html": [
       "<div>\n",
       "<style scoped>\n",
       "    .dataframe tbody tr th:only-of-type {\n",
       "        vertical-align: middle;\n",
       "    }\n",
       "\n",
       "    .dataframe tbody tr th {\n",
       "        vertical-align: top;\n",
       "    }\n",
       "\n",
       "    .dataframe thead th {\n",
       "        text-align: right;\n",
       "    }\n",
       "</style>\n",
       "<table border=\"1\" class=\"dataframe\">\n",
       "  <thead>\n",
       "    <tr style=\"text-align: right;\">\n",
       "      <th></th>\n",
       "      <th>Station ID</th>\n",
       "      <th>Staion Name</th>\n",
       "      <th>Precipitaion</th>\n",
       "      <th>Latitude</th>\n",
       "      <th>Longitude</th>\n",
       "      <th>Elevation</th>\n",
       "    </tr>\n",
       "  </thead>\n",
       "  <tbody>\n",
       "    <tr>\n",
       "      <th>0</th>\n",
       "      <td>USC00517948</td>\n",
       "      <td>PEARL CITY, HI US</td>\n",
       "      <td>2.40</td>\n",
       "      <td>21.39340</td>\n",
       "      <td>-157.97510</td>\n",
       "      <td>11.9</td>\n",
       "    </tr>\n",
       "    <tr>\n",
       "      <th>1</th>\n",
       "      <td>USC00513117</td>\n",
       "      <td>KANEOHE 838.1, HI US</td>\n",
       "      <td>2.20</td>\n",
       "      <td>21.42340</td>\n",
       "      <td>-157.80150</td>\n",
       "      <td>14.6</td>\n",
       "    </tr>\n",
       "    <tr>\n",
       "      <th>2</th>\n",
       "      <td>USC00519281</td>\n",
       "      <td>WAIHEE 837.5, HI US</td>\n",
       "      <td>2.12</td>\n",
       "      <td>21.45167</td>\n",
       "      <td>-157.84889</td>\n",
       "      <td>32.9</td>\n",
       "    </tr>\n",
       "    <tr>\n",
       "      <th>3</th>\n",
       "      <td>USC00516128</td>\n",
       "      <td>MANOA LYON ARBO 785.2, HI US</td>\n",
       "      <td>2.00</td>\n",
       "      <td>21.33310</td>\n",
       "      <td>-157.80250</td>\n",
       "      <td>152.4</td>\n",
       "    </tr>\n",
       "    <tr>\n",
       "      <th>4</th>\n",
       "      <td>USC00519281</td>\n",
       "      <td>WAIHEE 837.5, HI US</td>\n",
       "      <td>1.88</td>\n",
       "      <td>21.45167</td>\n",
       "      <td>-157.84889</td>\n",
       "      <td>32.9</td>\n",
       "    </tr>\n",
       "    <tr>\n",
       "      <th>5</th>\n",
       "      <td>USC00519523</td>\n",
       "      <td>WAIMANALO EXPERIMENTAL FARM, HI US</td>\n",
       "      <td>1.48</td>\n",
       "      <td>21.33556</td>\n",
       "      <td>-157.71139</td>\n",
       "      <td>19.5</td>\n",
       "    </tr>\n",
       "    <tr>\n",
       "      <th>6</th>\n",
       "      <td>USC00513117</td>\n",
       "      <td>KANEOHE 838.1, HI US</td>\n",
       "      <td>1.45</td>\n",
       "      <td>21.42340</td>\n",
       "      <td>-157.80150</td>\n",
       "      <td>14.6</td>\n",
       "    </tr>\n",
       "    <tr>\n",
       "      <th>7</th>\n",
       "      <td>USC00519397</td>\n",
       "      <td>WAIKIKI 717.2, HI US</td>\n",
       "      <td>1.19</td>\n",
       "      <td>21.27160</td>\n",
       "      <td>-157.81680</td>\n",
       "      <td>3.0</td>\n",
       "    </tr>\n",
       "    <tr>\n",
       "      <th>8</th>\n",
       "      <td>USC00514830</td>\n",
       "      <td>KUALOA RANCH HEADQUARTERS 886.9, HI US</td>\n",
       "      <td>1.12</td>\n",
       "      <td>21.52130</td>\n",
       "      <td>-157.83740</td>\n",
       "      <td>7.0</td>\n",
       "    </tr>\n",
       "    <tr>\n",
       "      <th>9</th>\n",
       "      <td>USC00519397</td>\n",
       "      <td>WAIKIKI 717.2, HI US</td>\n",
       "      <td>0.73</td>\n",
       "      <td>21.27160</td>\n",
       "      <td>-157.81680</td>\n",
       "      <td>3.0</td>\n",
       "    </tr>\n",
       "  </tbody>\n",
       "</table>\n",
       "</div>"
      ],
      "text/plain": [
       "    Station ID                             Staion Name  Precipitaion  \\\n",
       "0  USC00517948                       PEARL CITY, HI US          2.40   \n",
       "1  USC00513117                    KANEOHE 838.1, HI US          2.20   \n",
       "2  USC00519281                     WAIHEE 837.5, HI US          2.12   \n",
       "3  USC00516128            MANOA LYON ARBO 785.2, HI US          2.00   \n",
       "4  USC00519281                     WAIHEE 837.5, HI US          1.88   \n",
       "5  USC00519523      WAIMANALO EXPERIMENTAL FARM, HI US          1.48   \n",
       "6  USC00513117                    KANEOHE 838.1, HI US          1.45   \n",
       "7  USC00519397                    WAIKIKI 717.2, HI US          1.19   \n",
       "8  USC00514830  KUALOA RANCH HEADQUARTERS 886.9, HI US          1.12   \n",
       "9  USC00519397                    WAIKIKI 717.2, HI US          0.73   \n",
       "\n",
       "   Latitude  Longitude  Elevation  \n",
       "0  21.39340 -157.97510       11.9  \n",
       "1  21.42340 -157.80150       14.6  \n",
       "2  21.45167 -157.84889       32.9  \n",
       "3  21.33310 -157.80250      152.4  \n",
       "4  21.45167 -157.84889       32.9  \n",
       "5  21.33556 -157.71139       19.5  \n",
       "6  21.42340 -157.80150       14.6  \n",
       "7  21.27160 -157.81680        3.0  \n",
       "8  21.52130 -157.83740        7.0  \n",
       "9  21.27160 -157.81680        3.0  "
      ]
     },
     "execution_count": 322,
     "metadata": {},
     "output_type": "execute_result"
    }
   ],
   "source": [
    "# Calculate the total amount of rainfall per weather station for your trip dates using the previous year's matching dates.\n",
    "# Sort this in descending order by precipitation amount and list the station, name, latitude, longitude, and elevation\n",
    "# EXAMPLE OF JOIN \n",
    "\n",
    "#  I CANT FIGURE OUT WHAT DATES YOU WANT HERE BUT YOU CAN SEE I CAN PULL ANY DATE INTO THIS QUERY\n",
    "selection = [ Measurement.station,  Station.name, Measurement.prcp, Station.latitude, Station.longitude, Station.elevation ]\n",
    "    join_1_ = session.query(*selection).filter(Measurement.station == Station.station).\\\n",
    "    filter(Measurement.date >='2017-02-28', Measurement.date <='2017-03-05' ).\\\n",
    "    order_by(Measurement.prcp.desc()).limit(10).all()\n",
    "#print(join_1_)\n",
    "grp = [ ids,name,prcp,lat,long,elv]\n",
    "print('UGLY PRINT-----UGLY PRINT-----UGLY PRINT-----UGLY PRINT-----UGLY PRINT-----UGLY PRINT-----UGLY PRINT')\n",
    "print()\n",
    "print(\"Station ID   | Station Name  [ Precipitaion ] ( Latitude )| Longitude | Elevation\"  )\n",
    "for x in join_1_: \n",
    "         print( x[0], \" | \",   x[1] ,\" [ \",  x[2],\" ] (\", x[3],\" ) | \",x[4], \" | \",x[5])\n",
    "print()\n",
    "\n",
    "\n",
    "print('PRETTY PRINT----------PRETTY PRINT----------PRETTY PRINT----------PRETTY PRINT----------PRETTY PRINT')\n",
    "df4 = pd.DataFrame(join_1_, columns=['Station ID', 'Staion Name', 'Precipitaion', 'Latitude', 'Longitude', 'Elevation' ] )\n",
    "df4.head(10)"
   ]
  },
  {
   "cell_type": "markdown",
   "metadata": {},
   "source": [
    "## Optional Challenge Assignment"
   ]
  },
  {
   "cell_type": "markdown",
   "metadata": {},
   "source": [
    "#      I     DID   NOT       DO   THE   OPTIONAL   ASSIGNMENT    BELOW\n"
   ]
  },
  {
   "cell_type": "code",
   "execution_count": null,
   "metadata": {},
   "outputs": [],
   "source": [
    "# Create a query that will calculate the daily normals \n",
    "# (i.e. the averages for tmin, tmax, and tavg for all historic data matching a specific month and day)\n",
    "\n",
    "def daily_normals(date):\n",
    "    \"\"\"Daily Normals.\n",
    "    \n",
    "    Args:\n",
    "        date (str): A date string in the format '%m-%d'\n",
    "        \n",
    "    Returns:\n",
    "        A list of tuples containing the daily normals, tmin, tavg, and tmax\n",
    "    \n",
    "    \"\"\"\n",
    "    \n",
    "    sel = [func.min(Measurement.tobs), func.avg(Measurement.tobs), func.max(Measurement.tobs)]\n",
    "    return session.query(*sel).filter(func.strftime(\"%m-%d\", Measurement.date) == date).all()\n",
    "    \n",
    "daily_normals(\"01-01\")"
   ]
  },
  {
   "cell_type": "code",
   "execution_count": null,
   "metadata": {},
   "outputs": [],
   "source": [
    "# calculate the daily normals for your trip\n",
    "# push each tuple of calculations into a list called `normals`\n",
    "\n",
    "# Set the start and end date of the trip\n",
    "\n",
    "# Use the start and end date to create a range of dates\n",
    "\n",
    "# Stip off the year and save a list of %m-%d strings\n",
    "\n",
    "# Loop through the list of %m-%d strings and calculate the normals for each date\n"
   ]
  },
  {
   "cell_type": "code",
   "execution_count": null,
   "metadata": {},
   "outputs": [],
   "source": [
    "# Load the previous query results into a Pandas DataFrame and add the `trip_dates` range as the `date` index\n"
   ]
  },
  {
   "cell_type": "code",
   "execution_count": null,
   "metadata": {},
   "outputs": [],
   "source": [
    "# Plot the daily normals as an area plot with `stacked=False`\n"
   ]
  }
 ],
 "metadata": {
  "kernel_info": {
   "name": "python3"
  },
  "kernelspec": {
   "display_name": "Python 3",
   "language": "python",
   "name": "python3"
  },
  "language_info": {
   "codemirror_mode": {
    "name": "ipython",
    "version": 3
   },
   "file_extension": ".py",
   "mimetype": "text/x-python",
   "name": "python",
   "nbconvert_exporter": "python",
   "pygments_lexer": "ipython3",
   "version": "3.6.8"
  },
  "nteract": {
   "version": "0.12.3"
  },
  "varInspector": {
   "cols": {
    "lenName": 16,
    "lenType": 16,
    "lenVar": 40
   },
   "kernels_config": {
    "python": {
     "delete_cmd_postfix": "",
     "delete_cmd_prefix": "del ",
     "library": "var_list.py",
     "varRefreshCmd": "print(var_dic_list())"
    },
    "r": {
     "delete_cmd_postfix": ") ",
     "delete_cmd_prefix": "rm(",
     "library": "var_list.r",
     "varRefreshCmd": "cat(var_dic_list()) "
    }
   },
   "types_to_exclude": [
    "module",
    "function",
    "builtin_function_or_method",
    "instance",
    "_Feature"
   ],
   "window_display": false
  }
 },
 "nbformat": 4,
 "nbformat_minor": 2
}
